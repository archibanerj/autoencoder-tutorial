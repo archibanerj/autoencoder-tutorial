{
  "nbformat": 4,
  "nbformat_minor": 0,
  "metadata": {
    "colab": {
      "name": "AutoEncoder_AV_Article.ipynb",
      "provenance": []
    },
    "kernelspec": {
      "name": "python3",
      "display_name": "Python 3"
    },
    "language_info": {
      "name": "python"
    },
    "gpuClass": "standard",
    "accelerator": "GPU"
  },
  "cells": [
    {
      "cell_type": "code",
      "execution_count": 39,
      "metadata": {
        "id": "RqSaF4CgSB6j"
      },
      "outputs": [],
      "source": [
        "import os\n",
        "import math\n",
        "import cv2\n",
        "import random\n",
        "import torch\n",
        "import torch.nn as nn\n",
        "import torch.nn.functional as F\n",
        "import numpy as np\n",
        "from torchvision import transforms,datasets\n",
        "import torch.optim as optim\n",
        "from torch.autograd import Variable\n",
        "import torchvision\n",
        "\n",
        "import matplotlib.image as mpimg\n",
        "import matplotlib.pyplot as plt"
      ]
    },
    {
      "cell_type": "code",
      "execution_count": 40,
      "metadata": {
        "id": "Mpn9bxxESZuW"
      },
      "outputs": [],
      "source": [
        "torch.cuda.empty_cache()"
      ]
    },
    {
      "cell_type": "code",
      "execution_count": 41,
      "metadata": {
        "id": "rQtZr1HUSZuX"
      },
      "outputs": [],
      "source": [
        "apply_transform = transforms.ToTensor() # Any normalisation? of the pixel values?\n",
        "BatchSize = 64\n",
        "\n",
        "trainset = datasets.MNIST(root='./MNIST', train=True, download=True, transform=apply_transform)\n",
        "trainLoader = torch.utils.data.DataLoader(trainset, batch_size=BatchSize,\n",
        "                                          shuffle=True, num_workers=0) # Creating dataloader\n",
        "\n",
        "# Validation set with random rotations in the range [-90,90]\n",
        "testset = datasets.MNIST(root='./MNIST', train=False, download=True, transform=apply_transform)\n",
        "testLoader = torch.utils.data.DataLoader(testset, batch_size=1,\n",
        "                                         shuffle=False, num_workers=0) # Creating dataloader\n",
        "                                        "
      ]
    },
    {
      "cell_type": "code",
      "source": [
        "# Encoder Architecture #\n",
        "\n",
        "class encoder(nn.Module): # Make sense of numbers\n",
        "    def __init__(self):\n",
        "        super(encoder, self).__init__()\n",
        "        self.hidden_layer = nn.Linear(784,1000)\n",
        "        self.output_layer = nn.Linear(1000,2)\n",
        "\n",
        "    def forward(self, x):\n",
        "        x = x.view(-1,784)\n",
        "        x = F.relu(self.hidden_layer(x))\n",
        "        x = F.relu(self.output_layer(x))\n",
        "\n",
        "        return x\n",
        "        \n",
        "# Decoder Architecture #\n",
        "\n",
        "class decoder(nn.Module): \n",
        "    def __init__(self):\n",
        "        super(decoder, self).__init__()\n",
        "        self.hidden_layer = nn.Linear(2,1000)\n",
        "        self.output_layer = nn.Linear(1000,784)\n",
        "\n",
        "    def forward(self, x):\n",
        "        x = F.relu(self.hidden_layer(x))\n",
        "        x = F.relu(self.output_layer(x))\n",
        "        x = x.view(-1,1,28,28)\n",
        "        return x"
      ],
      "metadata": {
        "id": "IwJDZfqdSg7L"
      },
      "execution_count": 42,
      "outputs": []
    },
    {
      "cell_type": "markdown",
      "source": [
        "#Training \n",
        "\n",
        "The training scheme we follow is simple - we feed forward each minibatch of MNIST images and obtain an output. We compute the L2-norm of this output with the input, and then backpropagate to obtain the gradients, We then update the parameters of the model. \n",
        "\n",
        "We shall use Cosine Similarity to measure the similarity of the output with the input."
      ],
      "metadata": {
        "id": "uNdw0cj_S-BD"
      }
    },
    {
      "cell_type": "code",
      "source": [
        "## Initialise the models\n",
        "encode = encoder()\n",
        "decode = decoder()\n",
        "\n",
        "use_gpu = torch.cuda.is_available()\n",
        "\n",
        "if use_gpu:\n",
        "    print('GPU is avaialble!')\n",
        "    encode = encode.cuda()\n",
        "    decode = decode.cuda()"
      ],
      "metadata": {
        "colab": {
          "base_uri": "https://localhost:8080/"
        },
        "id": "FYsxQkYaSklh",
        "outputId": "eb134d0d-f616-4d65-b137-99d68fbb5281"
      },
      "execution_count": 46,
      "outputs": [
        {
          "output_type": "stream",
          "name": "stdout",
          "text": [
            "GPU is avaialble!\n"
          ]
        }
      ]
    },
    {
      "cell_type": "code",
      "source": [
        "criterion_recon = nn.MSELoss()\n",
        "similarity_recon = nn.CosineSimilarity()\n",
        "\n",
        "learning_rate_AE = 0.001\n",
        "\n",
        "opt_enc = optim.Adam(encode.parameters(),lr = learning_rate_AE) \n",
        "opt_dec = optim.Adam(decode.parameters(),lr = learning_rate_AE)\n",
        "\n",
        "num_epochs = 50\n",
        "\n",
        "train_loss = []\n",
        "train_sim =[]"
      ],
      "metadata": {
        "id": "PgkdNitSS0I_"
      },
      "execution_count": 47,
      "outputs": []
    },
    {
      "cell_type": "code",
      "source": [
        "for epoch in range(num_epochs):\n",
        "    running_loss = 0.0\n",
        "    running_sim = 0.0\n",
        "    for i,data in enumerate(trainLoader):\n",
        "        inputs,ground = data\n",
        "        if use_gpu:\n",
        "            inputs,ground = inputs.cuda(),ground.cuda()\n",
        "        opt_enc.zero_grad()\n",
        "        opt_dec.zero_grad() \n",
        "        encode.train()\n",
        "        decode.train()\n",
        "        z = encode(inputs)\n",
        "        out = decode(z)\n",
        "        loss = criterion_recon(inputs, out) \n",
        "        running_loss += loss\n",
        "        loss.backward()\n",
        "        opt_enc.step()\n",
        "        opt_dec.step()\n",
        "        del z,out,loss\n",
        "        torch.cuda.synchronize()\n",
        "        # Calculating Reconstruction Accuracy\n",
        "        running_sim += torch.sum(similarity_recon(inputs.view(-1,784),decode(encode(inputs)).view(-1,784)))\n",
        "    epoch_loss = running_loss.item()/(i+1)   \n",
        "    epoch_sim = running_sim.item()/60000\n",
        "    train_loss.append(epoch_loss) \n",
        "    train_sim.append(epoch_sim)\n",
        "    print('Epoch {:.0f}/{:.0f} : Reconstruction Training loss: {:.4f} | Train Similarity {:.4f}'.format(epoch+1,num_epochs,epoch_loss,epoch_sim))"
      ],
      "metadata": {
        "colab": {
          "base_uri": "https://localhost:8080/"
        },
        "id": "3_EJ77ZZU7J4",
        "outputId": "0e88be43-d646-4b17-facd-b9e5e6875098"
      },
      "execution_count": 48,
      "outputs": [
        {
          "output_type": "stream",
          "name": "stdout",
          "text": [
            "Epoch 1/50 : Reconstruction Training loss: 0.0700 | Train Similarity 0.6114\n",
            "Epoch 2/50 : Reconstruction Training loss: 0.0647 | Train Similarity 0.6517\n",
            "Epoch 3/50 : Reconstruction Training loss: 0.0618 | Train Similarity 0.6723\n",
            "Epoch 4/50 : Reconstruction Training loss: 0.0594 | Train Similarity 0.6884\n",
            "Epoch 5/50 : Reconstruction Training loss: 0.0582 | Train Similarity 0.6964\n",
            "Epoch 6/50 : Reconstruction Training loss: 0.0571 | Train Similarity 0.7037\n",
            "Epoch 7/50 : Reconstruction Training loss: 0.0564 | Train Similarity 0.7082\n",
            "Epoch 8/50 : Reconstruction Training loss: 0.0555 | Train Similarity 0.7140\n",
            "Epoch 9/50 : Reconstruction Training loss: 0.0548 | Train Similarity 0.7184\n",
            "Epoch 10/50 : Reconstruction Training loss: 0.0544 | Train Similarity 0.7212\n",
            "Epoch 11/50 : Reconstruction Training loss: 0.0538 | Train Similarity 0.7247\n",
            "Epoch 12/50 : Reconstruction Training loss: 0.0533 | Train Similarity 0.7277\n",
            "Epoch 13/50 : Reconstruction Training loss: 0.0525 | Train Similarity 0.7324\n",
            "Epoch 14/50 : Reconstruction Training loss: 0.0518 | Train Similarity 0.7365\n",
            "Epoch 15/50 : Reconstruction Training loss: 0.0513 | Train Similarity 0.7391\n",
            "Epoch 16/50 : Reconstruction Training loss: 0.0511 | Train Similarity 0.7405\n",
            "Epoch 17/50 : Reconstruction Training loss: 0.0506 | Train Similarity 0.7430\n",
            "Epoch 18/50 : Reconstruction Training loss: 0.0503 | Train Similarity 0.7452\n",
            "Epoch 19/50 : Reconstruction Training loss: 0.0500 | Train Similarity 0.7469\n",
            "Epoch 20/50 : Reconstruction Training loss: 0.0499 | Train Similarity 0.7476\n",
            "Epoch 21/50 : Reconstruction Training loss: 0.0498 | Train Similarity 0.7483\n",
            "Epoch 22/50 : Reconstruction Training loss: 0.0496 | Train Similarity 0.7495\n",
            "Epoch 23/50 : Reconstruction Training loss: 0.0495 | Train Similarity 0.7502\n",
            "Epoch 24/50 : Reconstruction Training loss: 0.0494 | Train Similarity 0.7506\n",
            "Epoch 25/50 : Reconstruction Training loss: 0.0492 | Train Similarity 0.7514\n",
            "Epoch 26/50 : Reconstruction Training loss: 0.0490 | Train Similarity 0.7526\n",
            "Epoch 27/50 : Reconstruction Training loss: 0.0488 | Train Similarity 0.7541\n",
            "Epoch 28/50 : Reconstruction Training loss: 0.0487 | Train Similarity 0.7543\n",
            "Epoch 29/50 : Reconstruction Training loss: 0.0486 | Train Similarity 0.7549\n",
            "Epoch 30/50 : Reconstruction Training loss: 0.0486 | Train Similarity 0.7551\n",
            "Epoch 31/50 : Reconstruction Training loss: 0.0482 | Train Similarity 0.7573\n",
            "Epoch 32/50 : Reconstruction Training loss: 0.0482 | Train Similarity 0.7579\n",
            "Epoch 33/50 : Reconstruction Training loss: 0.0481 | Train Similarity 0.7582\n",
            "Epoch 34/50 : Reconstruction Training loss: 0.0480 | Train Similarity 0.7586\n",
            "Epoch 35/50 : Reconstruction Training loss: 0.0477 | Train Similarity 0.7605\n",
            "Epoch 36/50 : Reconstruction Training loss: 0.0477 | Train Similarity 0.7608\n",
            "Epoch 37/50 : Reconstruction Training loss: 0.0476 | Train Similarity 0.7613\n",
            "Epoch 38/50 : Reconstruction Training loss: 0.0475 | Train Similarity 0.7618\n",
            "Epoch 39/50 : Reconstruction Training loss: 0.0475 | Train Similarity 0.7620\n",
            "Epoch 40/50 : Reconstruction Training loss: 0.0474 | Train Similarity 0.7623\n",
            "Epoch 41/50 : Reconstruction Training loss: 0.0473 | Train Similarity 0.7628\n",
            "Epoch 42/50 : Reconstruction Training loss: 0.0473 | Train Similarity 0.7629\n",
            "Epoch 43/50 : Reconstruction Training loss: 0.0472 | Train Similarity 0.7632\n",
            "Epoch 44/50 : Reconstruction Training loss: 0.0472 | Train Similarity 0.7635\n",
            "Epoch 45/50 : Reconstruction Training loss: 0.0470 | Train Similarity 0.7644\n",
            "Epoch 46/50 : Reconstruction Training loss: 0.0470 | Train Similarity 0.7646\n",
            "Epoch 47/50 : Reconstruction Training loss: 0.0470 | Train Similarity 0.7647\n",
            "Epoch 48/50 : Reconstruction Training loss: 0.0469 | Train Similarity 0.7649\n",
            "Epoch 49/50 : Reconstruction Training loss: 0.0467 | Train Similarity 0.7662\n",
            "Epoch 50/50 : Reconstruction Training loss: 0.0465 | Train Similarity 0.7671\n"
          ]
        }
      ]
    },
    {
      "cell_type": "markdown",
      "source": [
        "#Performance Evaluation"
      ],
      "metadata": {
        "id": "2kTauh_hV9ni"
      }
    },
    {
      "cell_type": "code",
      "source": [
        "plt.plot(train_loss,label = 'Loss')\n",
        "plt.plot(train_sim,label='similarity')\n",
        "plt.legend()\n",
        "plt.show()"
      ],
      "metadata": {
        "colab": {
          "base_uri": "https://localhost:8080/",
          "height": 268
        },
        "id": "AHptsZMCLJGj",
        "outputId": "ce761b32-eafd-4e26-c423-52631bf35898"
      },
      "execution_count": 49,
      "outputs": [
        {
          "output_type": "display_data",
          "data": {
            "text/plain": [
              "<Figure size 432x288 with 1 Axes>"
            ],
            "image/png": "[encoded data removed]"
          },
          "metadata": {
            "needs_background": "light"
          }
        }
      ]
    },
    {
      "cell_type": "code",
      "source": [
        "### Function to normalize plots between 0 and 1 to visualise trends better ###\n",
        "def normalise(X):\n",
        "  X = np.array(X)\n",
        "  max = np.max(X)\n",
        "  min = np.min(X)\n",
        "  X = (X-min)/(max-min)\n",
        "  X = list(X)\n",
        "  return X"
      ],
      "metadata": {
        "id": "SGcGxxlIVzPa"
      },
      "execution_count": 50,
      "outputs": []
    },
    {
      "cell_type": "code",
      "source": [
        "count = list(np.zeros(10))\n",
        "#img_list = list(np.zeros(10))\n",
        "c = 0\n",
        "encode = encode.cpu()\n",
        "decode = decode.cpu()\n",
        "for i,data in enumerate(testLoader):\n",
        "  image,label = data\n",
        "  pred = decode(encode(image)).detach().numpy()\n",
        "  if count[label] == 0:\n",
        "    f, axarr = plt.subplots(1,2)\n",
        "    axarr[0].imshow(np.reshape(image,(28,28)),cmap='gray')\n",
        "    axarr[1].imshow(np.reshape(pred, (28,28)),cmap='gray')\n",
        "    f.show()\n",
        "    count[label]+=1\n",
        "    c += 1\n",
        "  \n",
        "  if c == 10:\n",
        "    break"
      ],
      "metadata": {
        "id": "sjR4Iny95dtT",
        "colab": {
          "base_uri": "https://localhost:8080/",
          "height": 1000
        },
        "outputId": "bf755a2a-5974-4f1d-ee74-581a8b844a1e"
      },
      "execution_count": 51,
      "outputs": [
        {
          "output_type": "display_data",
          "data": {
            "text/plain": [
              "<Figure size 432x288 with 2 Axes>"
            ],
            "image/png": "[encoded data removed]"
          },
          "metadata": {
            "needs_background": "light"
          }
        },
        {
          "output_type": "display_data",
          "data": {
            "text/plain": [
              "<Figure size 432x288 with 2 Axes>"
            ],
            "image/png": "[encoded data removed]"
          },
          "metadata": {
            "needs_background": "light"
          }
        },
        {
          "output_type": "display_data",
          "data": {
            "text/plain": [
              "<Figure size 432x288 with 2 Axes>"
            ],
            "image/png": "[encoded data removed]"
          },
          "metadata": {
            "needs_background": "light"
          }
        },
        {
          "output_type": "display_data",
          "data": {
            "text/plain": [
              "<Figure size 432x288 with 2 Axes>"
            ],
            "image/png": "[encoded data removed]"
          },
          "metadata": {
            "needs_background": "light"
          }
        },
        {
          "output_type": "display_data",
          "data": {
            "text/plain": [
              "<Figure size 432x288 with 2 Axes>"
            ],
            "image/png": "[encoded data removed]"
          },
          "metadata": {
            "needs_background": "light"
          }
        },
        {
          "output_type": "display_data",
          "data": {
            "text/plain": [
              "<Figure size 432x288 with 2 Axes>"
            ],
            "image/png": "[encoded data removed]"
          },
          "metadata": {
            "needs_background": "light"
          }
        },
        {
          "output_type": "display_data",
          "data": {
            "text/plain": [
              "<Figure size 432x288 with 2 Axes>"
            ],
            "image/png": "[encoded data removed]"
          },
          "metadata": {
            "needs_background": "light"
          }
        },
        {
          "output_type": "display_data",
          "data": {
            "text/plain": [
              "<Figure size 432x288 with 2 Axes>"
            ],
            "image/png": "[encoded data removed]"
          },
          "metadata": {
            "needs_background": "light"
          }
        },
        {
          "output_type": "display_data",
          "data": {
            "text/plain": [
              "<Figure size 432x288 with 2 Axes>"
            ],
            "image/png": "[encoded data removed]"
          },
          "metadata": {
            "needs_background": "light"
          }
        },
        {
          "output_type": "display_data",
          "data": {
            "text/plain": [
              "<Figure size 432x288 with 2 Axes>"
            ],
            "image/png": "[encoded data removed]"
          },
          "metadata": {
            "needs_background": "light"
          }
        }
      ]
    },
    {
      "cell_type": "markdown",
      "source": [
        "As we can see above, with the exception of 5 and 8, the autoencoder correctly outputs the original handwritten number. Let us now treat the Decoder as a generative model and see what kind of outputs we shall obtain. Before that, let us first see the latent space distribution of the (training) dataset.  \n",
        "\n",
        "# Decoder as Generator\n",
        "\n",
        "## 1. Latent space distribution"
      ],
      "metadata": {
        "id": "awHrmF6GY_P3"
      }
    },
    {
      "cell_type": "code",
      "source": [
        "LatentVectors = []\n",
        "digits = []\n",
        "images = []\n",
        "for i,data in enumerate(trainLoader):\n",
        "  inputs,ground = data\n",
        "  z = encode(inputs)\n",
        "  for j in z:\n",
        "    LatentVectors.append(j.detach().numpy())\n",
        "  for j in ground:\n",
        "    digits.append(j.detach().numpy())\n",
        "  for j in inputs:\n",
        "    images.append(j.detach().numpy())"
      ],
      "metadata": {
        "id": "HzVW8ct6Y3e1"
      },
      "execution_count": 52,
      "outputs": []
    },
    {
      "cell_type": "code",
      "source": [
        "LatentVectors = np.array(LatentVectors)\n",
        "digits = np.array(digits)"
      ],
      "metadata": {
        "id": "JRkDQg3otfSw"
      },
      "execution_count": 53,
      "outputs": []
    },
    {
      "cell_type": "code",
      "source": [
        "inds = digits.argsort()\n",
        "sorted_digits = np.sort(digits)\n",
        "LatentVectors_sorted = LatentVectors[inds]"
      ],
      "metadata": {
        "id": "MeiTtyBMuiZl"
      },
      "execution_count": 54,
      "outputs": []
    },
    {
      "cell_type": "code",
      "source": [
        "x = []\n",
        "y = []\n",
        "for i in LatentVectors_sorted:\n",
        "  x.append(i[0])\n",
        "  y.append(i[1])"
      ],
      "metadata": {
        "id": "XCttyBqJeH_K"
      },
      "execution_count": 55,
      "outputs": []
    },
    {
      "cell_type": "code",
      "source": [
        "## Split the Array into digits ##\n",
        "Split = [0]\n",
        "for i in range(59999):\n",
        "  if sorted_digits[i]  != sorted_digits[i+1]:\n",
        "    Split.append(i+1)\n",
        "Split.append(60000)\n",
        "num_split = len(Split)"
      ],
      "metadata": {
        "id": "peoYIt3HvbRB"
      },
      "execution_count": 56,
      "outputs": []
    },
    {
      "cell_type": "code",
      "source": [
        "fig, ax = plt.subplots()\n",
        "ax.set_xlabel('z1')\n",
        "ax.set_ylabel('z2')\n",
        "colours = ['tab:blue','tab:orange','tab:green','tab:red','tab:purple','tab:brown','tab:pink','tab:gray','tab:olive','tab:cyan']\n",
        "for i in range(num_split-1):\n",
        "  ax.scatter(x[Split[i]:Split[i+1]],y[Split[i]:Split[i+1]],c = colours[sorted_digits[Split[i]]])"
      ],
      "metadata": {
        "colab": {
          "base_uri": "https://localhost:8080/",
          "height": 279
        },
        "id": "-iZF2iTYe5xQ",
        "outputId": "880e85ed-4e57-4b8c-a87f-ad1f97eebcd6"
      },
      "execution_count": 62,
      "outputs": [
        {
          "output_type": "display_data",
          "data": {
            "text/plain": [
              "<Figure size 432x288 with 1 Axes>"
            ],
            "image/png": "[encoded data removed]"
          },
          "metadata": {
            "needs_background": "light"
          }
        }
      ]
    },
    {
      "cell_type": "markdown",
      "source": [
        "As we can see, the regions corresponding to various digits in the latent space are overlapping. This means that the autoencoder will not produce sharply defined images for points that fall in these overlap regions. One can also say that as we increase the number of dimensions of the latent space, we will observe more sharply defined regions for the various digits, and naturally the autoencoder will perform a better job. Additionally, we observe that beyond a certain region in this space, the sample points are sparsely distributed. We will now be inputing some sample latent space points from these regions to see how the autoencoder performs. Such values can be inferred from the plot of the latent space distribution\n",
        "\n",
        "Q - Can one say that if we limit the sample space region (by fixing maximum amplitude of the latent vector) to some fixed radius, the sparsity will reduce and the autoencoder will perform better?"
      ],
      "metadata": {
        "id": "azrUaaagszly"
      }
    },
    {
      "cell_type": "code",
      "source": [
        "z1 = torch.from_numpy(np.array([6.0,4.0],dtype = np.double))\n",
        "img = decode(z1.float())\n",
        "img = np.reshape(img.detach().numpy(),(28,28))\n",
        "plt.imshow(img,cmap = 'gray')"
      ],
      "metadata": {
        "colab": {
          "base_uri": "https://localhost:8080/",
          "height": 282
        },
        "id": "VHtnH2Gh5xRq",
        "outputId": "d10ded4b-79cc-4abc-e511-a9b13b9f4436"
      },
      "execution_count": 64,
      "outputs": [
        {
          "output_type": "execute_result",
          "data": {
            "text/plain": [
              "<matplotlib.image.AxesImage at 0x7f8f613d4ed0>"
            ]
          },
          "metadata": {},
          "execution_count": 64
        },
        {
          "output_type": "display_data",
          "data": {
            "text/plain": [
              "<Figure size 432x288 with 1 Axes>"
            ],
            "image/png": "[encoded data removed]"
          },
          "metadata": {
            "needs_background": "light"
          }
        }
      ]
    },
    {
      "cell_type": "code",
      "source": [
        "z1 = torch.from_numpy(np.array([1.3,2.0],dtype = np.double))\n",
        "img = decode(z1.float())\n",
        "img = np.reshape(img.detach().numpy(),(28,28))\n",
        "plt.imshow(img,cmap = 'gray')"
      ],
      "metadata": {
        "colab": {
          "base_uri": "https://localhost:8080/",
          "height": 282
        },
        "id": "F8Ur1JkQ67oA",
        "outputId": "c0da431d-028e-4429-d2b5-eaa27a9661fd"
      },
      "execution_count": 65,
      "outputs": [
        {
          "output_type": "execute_result",
          "data": {
            "text/plain": [
              "<matplotlib.image.AxesImage at 0x7f8f606e5450>"
            ]
          },
          "metadata": {},
          "execution_count": 65
        },
        {
          "output_type": "display_data",
          "data": {
            "text/plain": [
              "<Figure size 432x288 with 1 Axes>"
            ],
            "image/png": "[encoded data removed]"
          },
          "metadata": {
            "needs_background": "light"
          }
        }
      ]
    },
    {
      "cell_type": "markdown",
      "source": [
        "As we can see from the latent space graph, the point (1.3,2) is lying in the overlap of several colours. Thus, our output is also a 'combination' of all these digits. Let us now input a latent space vector from a clearly defined region - say (0.5,3.2). The output should resemble a '0', as this point lies clearly in the 'blue' region."
      ],
      "metadata": {
        "id": "Hzpecmcy7T_s"
      }
    },
    {
      "cell_type": "code",
      "source": [
        "z1 = torch.from_numpy(np.array([0.5,3.2],dtype = np.double))\n",
        "img = decode(z1.float())\n",
        "img = np.reshape(img.detach().numpy(),(28,28))\n",
        "plt.imshow(img,cmap = 'gray')"
      ],
      "metadata": {
        "colab": {
          "base_uri": "https://localhost:8080/",
          "height": 282
        },
        "id": "gcLwbVnh773y",
        "outputId": "33212e85-d704-4084-8d03-be082c1c9f34"
      },
      "execution_count": 66,
      "outputs": [
        {
          "output_type": "execute_result",
          "data": {
            "text/plain": [
              "<matplotlib.image.AxesImage at 0x7f8f605055d0>"
            ]
          },
          "metadata": {},
          "execution_count": 66
        },
        {
          "output_type": "display_data",
          "data": {
            "text/plain": [
              "<Figure size 432x288 with 1 Axes>"
            ],
            "image/png": "[encoded data removed]"
          },
          "metadata": {
            "needs_background": "light"
          }
        }
      ]
    },
    {
      "cell_type": "code",
      "source": [
        ""
      ],
      "metadata": {
        "id": "-6l4MAz4XH5R"
      },
      "execution_count": null,
      "outputs": []
    }
  ]
}